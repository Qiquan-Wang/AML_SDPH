{
 "cells": [
  {
   "cell_type": "code",
   "execution_count": 1,
   "metadata": {},
   "outputs": [
    {
     "name": "stdout",
     "output_type": "stream",
     "text": [
      "(17251155, 15)\n",
      "17251155\n",
      "(22177580, 15)\n"
     ]
    }
   ],
   "source": [
    "# load data\n",
    "from choose_feature_params import \\\n",
    "    (ns, anatomy, \n",
    "     threshold,trunc_mag,radius,step,\n",
    "     use_keys, anat_list, feature_names, \n",
    "     Kmethod, Kmeans_folder, Kmeans_inside_folder)\n",
    "\n",
    "from datasets_info import (\n",
    "    names_of_interest, levels_of_interest, paper_names_of_interest, \n",
    "    phases_of_interest, phases_labels)\n",
    "\n",
    "import pickle\n",
    "import numpy as np\n",
    "from sklearn.cluster import DBSCAN\n",
    "from sklearn.cluster import KMeans\n",
    "from sklearn import mixture\n",
    "import time\n",
    "\n",
    "# load feature vectors\n",
    "\n",
    "# load or aggregate X\n",
    "PH_folder = ''\n",
    "data_folder = ''\n",
    "segmented_folder = ''\n",
    "denoised_folder = ''\n",
    "\n",
    "# RUN aggregate() FUNCTION EACH TIME YOU REDEFINE PARAMETERS\n",
    "\n",
    "if use_keys == 'no_weight' :\n",
    "    aux = 'noweight_nocounts'\n",
    "else :\n",
    "    aux = use_keys\n",
    "    \n",
    "X = pickle.load(open(\"X_both_noweight_nocounts_ns5_thr0.5_trcNone_rad40_step5.pkl\", 'rb'))\n",
    "\n",
    "nan_pixels = (np.isnan(X).sum(1) > 0)\n",
    "X_no_nan = X[nan_pixels == False]\n",
    "\n",
    "print(X_no_nan.shape)\n",
    "print(np.sum(np.sum(X,axis=1)>0))\n",
    "\n",
    "print(X.shape)"
   ]
  },
  {
   "cell_type": "code",
   "execution_count": 6,
   "metadata": {},
   "outputs": [
    {
     "name": "stderr",
     "output_type": "stream",
     "text": [
      "/rds/general/user/qw817/home/anaconda3/envs/aml/lib/python3.10/site-packages/threadpoolctl.py:762: RuntimeWarning: \n",
      "Found Intel OpenMP ('libiomp') and LLVM OpenMP ('libomp') loaded at\n",
      "the same time. Both libraries are known to be incompatible and this\n",
      "can cause random crashes or deadlocks on Linux when loaded in the\n",
      "same Python program.\n",
      "Using threadpoolctl may cause crashes or deadlocks. For more\n",
      "information and possible workarounds, please see\n",
      "    https://github.com/joblib/threadpoolctl/blob/master/multiple_openmp.md\n",
      "\n",
      "  warnings.warn(msg, RuntimeWarning)\n"
     ]
    },
    {
     "name": "stdout",
     "output_type": "stream",
     "text": [
      "2-th clustering done\n",
      "3-th clustering done\n",
      "4-th clustering done\n",
      "5-th clustering done\n",
      "6-th clustering done\n",
      "7-th clustering done\n",
      "8-th clustering done\n",
      "9-th clustering done\n",
      "10-th clustering done\n",
      "15-th clustering done\n",
      "25-th clustering done\n"
     ]
    }
   ],
   "source": [
    "# get k-means cluster labels for different number of clusters\n",
    "cluster_number = [2,3,4,5,6,7,8,9,10,15,25]\n",
    "for i in cluster_number:\n",
    "    kmeans = KMeans(n_clusters=i, random_state=0, n_init=\"auto\").fit(X_no_nan)\n",
    "    np.savetxt(\"kmeans_\"+str(i)+\"clusterlabels.csv\",kmeans.labels_,delimiter=',')\n",
    "    np.savetxt(\"kmeans_\"+str(i)+\"clustercentres.csv\",kmeans.cluster_centers_,delimiter=',')\n",
    "    print(str(i)+\"-th clustering done\")"
   ]
  },
  {
   "cell_type": "code",
   "execution_count": null,
   "metadata": {},
   "outputs": [
    {
     "name": "stderr",
     "output_type": "stream",
     "text": [
      "/rds/general/user/qw817/home/anaconda3/envs/aml/lib/python3.10/site-packages/threadpoolctl.py:762: RuntimeWarning: \n",
      "Found Intel OpenMP ('libiomp') and LLVM OpenMP ('libomp') loaded at\n",
      "the same time. Both libraries are known to be incompatible and this\n",
      "can cause random crashes or deadlocks on Linux when loaded in the\n",
      "same Python program.\n",
      "Using threadpoolctl may cause crashes or deadlocks. For more\n",
      "information and possible workarounds, please see\n",
      "    https://github.com/joblib/threadpoolctl/blob/master/multiple_openmp.md\n",
      "\n",
      "  warnings.warn(msg, RuntimeWarning)\n"
     ]
    }
   ],
   "source": [
    "# clustering using GMM\n",
    "from sklearn import mixture\n",
    "\n",
    "# Fit a Gaussian Mixture Model with different number of clusters\n",
    "cluster_number = [10,15,25]\n",
    "for i in cluster_number:\n",
    "    gmm = mixture.GaussianMixture(n_components=i).fit(X_no_nan)\n",
    "    # Predict the cluster assignments\n",
    "    gmm_labels = gmm.predict(X_no_nan)\n",
    "    np.savetxt(\"gmm_\"+str(i)+\"clusterlabels.csv\",gmm_labels,delimiter=',')\n",
    "    np.savetxt(\"gmm_\"+str(i)+\"clustercentres.csv\",gmm.means_,delimiter=',')\n",
    "    print(str(i)+\"-th clustering done\")\n",
    "\n"
   ]
  },
  {
   "cell_type": "code",
   "execution_count": null,
   "metadata": {},
   "outputs": [],
   "source": [
    "# clustering using CLARA algorithm\n",
    "from sklearn_extra.cluster import CLARA\n",
    "\n",
    "for i in cluster_number:\n",
    "    clara = CLARA(n_clusters=i, random_state=0).fit(X_no_nan)\n",
    "    np.savetxt(\"clara_\"+str(i)+\"clusterlabels.csv\", clara.labels_ ,delimiter=',')\n",
    "    np.savetxt(\"clara_\"+str(i)+\"clustercentres.csv\", clara.cluster_centers_ ,delimiter=',')\n",
    "    print(str(i)+\"-th clustering done\")\n"
   ]
  },
  {
   "cell_type": "code",
   "execution_count": null,
   "metadata": {},
   "outputs": [],
   "source": []
  },
  {
   "cell_type": "code",
   "execution_count": null,
   "metadata": {},
   "outputs": [],
   "source": []
  },
  {
   "cell_type": "code",
   "execution_count": null,
   "metadata": {},
   "outputs": [],
   "source": []
  }
 ],
 "metadata": {
  "kernelspec": {
   "display_name": "Python3.9 (aml)",
   "language": "python",
   "name": "python39_aml"
  },
  "language_info": {
   "codemirror_mode": {
    "name": "ipython",
    "version": 3
   },
   "file_extension": ".py",
   "mimetype": "text/x-python",
   "name": "python",
   "nbconvert_exporter": "python",
   "pygments_lexer": "ipython3",
   "version": "3.10.5"
  }
 },
 "nbformat": 4,
 "nbformat_minor": 2
}
